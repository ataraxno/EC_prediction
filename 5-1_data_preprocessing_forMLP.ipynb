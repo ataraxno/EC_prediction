{
 "cells": [
  {
   "cell_type": "code",
   "execution_count": 1,
   "metadata": {
    "collapsed": true
   },
   "outputs": [],
   "source": [
    "import numpy as np\n",
    "import sklearn.preprocessing as pp"
   ]
  },
  {
   "cell_type": "code",
   "execution_count": 2,
   "metadata": {},
   "outputs": [
    {
     "name": "stdout",
     "output_type": "stream",
     "text": [
      "[[ 2.377       8.72        2.824      ...,  0.         -1.          0.        ]\n",
      " [ 2.35128333  8.726       2.82598333 ...,  0.         -1.          0.        ]\n",
      " [ 2.3538      8.74683333  2.8333     ...,  0.         -1.          0.        ]\n",
      " ..., \n",
      " [ 2.43861667  9.62866667  3.1203     ...,  0.         -1.          6.3       ]\n",
      " [ 2.43576667  9.61016667  3.11375    ...,  0.         -1.          6.3       ]\n",
      " [ 2.42576667  9.639       3.12338333 ...,  0.         -1.          6.3       ]]\n",
      "(53568, 35)\n",
      "[[ 2.884     ]\n",
      " [ 2.8915    ]\n",
      " [ 2.88906667]\n",
      " ..., \n",
      " [ 4.97056667]\n",
      " [ 4.96906667]\n",
      " [ 4.96805   ]]\n",
      "(53568, 1)\n"
     ]
    }
   ],
   "source": [
    "raw_data = np.genfromtxt('./Data/EC_train_fMLP.csv', delimiter=',')\n",
    "raw_label = np.genfromtxt('./Data/EC_train_label_fMLP.csv', delimiter=',')\n",
    "raw_label = raw_label.reshape(-1,1)\n",
    "\n",
    "\n",
    "print(raw_data)\n",
    "print(raw_data.shape)\n",
    "\n",
    "print(raw_label)\n",
    "print(raw_label.shape)"
   ]
  },
  {
   "cell_type": "code",
   "execution_count": 3,
   "metadata": {
    "collapsed": true
   },
   "outputs": [],
   "source": [
    "#Processing\n",
    "temp = []\n",
    "mins = []\n",
    "maxs = []\n",
    "labelmins = []\n",
    "labelmaxs = []\n",
    "\n",
    "for i in range(raw_data.shape[1]):\n",
    "    temp = raw_data[:,i]\n",
    "    min_ = min(temp)\n",
    "    max_ = max(temp)\n",
    "    temp = (temp - min_) / (max_ - min_)\n",
    "    raw_data[:,i] = temp\n",
    "    mins.append(min_)\n",
    "    maxs.append(max_)\n",
    "\n",
    "    \n",
    "for i in range(raw_label.shape[1]):\n",
    "    temp = raw_label[:,i]\n",
    "    labelmin_ = min(temp)\n",
    "    labelmax_ = max(temp)\n",
    "    temp = (temp - labelmin_) / (labelmax_ - labelmin_)\n",
    "    raw_label[:,i] = temp\n",
    "    labelmins.append(labelmin_)\n",
    "    labelmaxs.append(labelmax_)"
   ]
  },
  {
   "cell_type": "code",
   "execution_count": 4,
   "metadata": {},
   "outputs": [
    {
     "name": "stdout",
     "output_type": "stream",
     "text": [
      "[ 0.36488847  0.35203843  0.35195508  0.51885752  0.97419966  0.90174619\n",
      "  0.22861828  0.60455835  0.59100719  0.          0.00735862  0.00188887\n",
      "  0.          0.          0.0571793   0.          0.11737185  0.0776699   0.\n",
      "  0.          0.97416057  0.9021586   0.00616126  0.51884663  0.          0.\n",
      "  0.02427075  0.81818182  1.          0.71933452  0.          0.01803607\n",
      "  0.15707629  0.          0.        ]\n",
      "[[ 0.49133949]\n",
      " [ 0.49254086]\n",
      " [ 0.49215108]\n",
      " ..., \n",
      " [ 0.82556985]\n",
      " [ 0.82532957]\n",
      " [ 0.82516672]]\n"
     ]
    }
   ],
   "source": [
    "print(raw_data[0])\n",
    "print(raw_label)"
   ]
  },
  {
   "cell_type": "code",
   "execution_count": 5,
   "metadata": {},
   "outputs": [
    {
     "name": "stdout",
     "output_type": "stream",
     "text": [
      "(53568, 35)\n",
      "(53568, 1)\n"
     ]
    }
   ],
   "source": [
    "print(raw_data.shape)\n",
    "print(raw_label.shape)"
   ]
  },
  {
   "cell_type": "code",
   "execution_count": 6,
   "metadata": {
    "collapsed": true
   },
   "outputs": [],
   "source": [
    "index = np.arange(raw_data.shape[0])\n",
    "np.random.shuffle(index)\n",
    "\n",
    "n_input = raw_data.shape[1]\n",
    "n_output = raw_label.shape[1]"
   ]
  },
  {
   "cell_type": "code",
   "execution_count": 7,
   "metadata": {
    "collapsed": true
   },
   "outputs": [],
   "source": [
    "temp_data = raw_data[index[0],:].reshape(-1,n_input)\n",
    "temp_label = raw_label[index[0],:].reshape(-1,n_output)\n",
    "\n",
    "for i in index:\n",
    "    if i == index[0]:\n",
    "        continue\n",
    "    temp_data = np.append(temp_data, raw_data[i,:].reshape(-1,n_input), axis = 0)\n",
    "    temp_label = np.append(temp_label, raw_label[i,:].reshape(-1,n_output), axis = 0)\n",
    "    \n",
    "raw_data = temp_data\n",
    "raw_label = temp_label"
   ]
  },
  {
   "cell_type": "code",
   "execution_count": 8,
   "metadata": {},
   "outputs": [
    {
     "name": "stdout",
     "output_type": "stream",
     "text": [
      "(53568, 35)\n",
      "(53568, 1)\n"
     ]
    }
   ],
   "source": [
    "print(raw_data.shape)\n",
    "print(raw_label.shape)"
   ]
  },
  {
   "cell_type": "code",
   "execution_count": null,
   "metadata": {
    "collapsed": true
   },
   "outputs": [],
   "source": [
    "TRAIN = 37497"
   ]
  },
  {
   "cell_type": "code",
   "execution_count": 9,
   "metadata": {
    "collapsed": true
   },
   "outputs": [],
   "source": [
    "train_label = raw_label[:TRAIN,:]\n",
    "train_data = raw_data[:TRAIN,:]\n",
    "\n",
    "test_label = raw_label[TRAIN:,:]\n",
    "test_data = raw_data[TRAIN:,:]"
   ]
  },
  {
   "cell_type": "code",
   "execution_count": 10,
   "metadata": {
    "collapsed": true
   },
   "outputs": [],
   "source": [
    "index = np.arange(len(train_data))\n",
    "np.random.shuffle(index)\n",
    "\n",
    "n_input = train_data.shape[1]\n",
    "n_output = train_label.shape[1]"
   ]
  },
  {
   "cell_type": "code",
   "execution_count": 11,
   "metadata": {
    "collapsed": true,
    "scrolled": true
   },
   "outputs": [],
   "source": [
    "temp_data = train_data[index[0],:].reshape(-1,n_input)\n",
    "temp_label = train_label[index[0],:].reshape(-1,n_output)\n",
    "\n",
    "for i in index:\n",
    "    if i == index[0]:\n",
    "        continue\n",
    "    temp_data = np.append(temp_data, train_data[i,:].reshape(-1,n_input), axis = 0)\n",
    "    temp_label = np.append(temp_label, train_label[i,:].reshape(-1,n_output), axis = 0)\n",
    "    \n",
    "train_data = temp_data\n",
    "train_label = temp_label"
   ]
  },
  {
   "cell_type": "code",
   "execution_count": 12,
   "metadata": {
    "collapsed": true
   },
   "outputs": [],
   "source": [
    "f = open(\"./Data/ECtrainset_fMLP.npz\", 'wb')\n",
    "np.savez(f, traindataset = train_data, trainlabel = train_label, testdataset = test_data, testlabel = test_label, \\\n",
    "                 mins = mins, maxs = maxs, labelmins = labelmins, labelmaxs = labelmaxs)\n",
    "f.close()"
   ]
  }
 ],
 "metadata": {
  "kernelspec": {
   "display_name": "Python 3",
   "language": "python",
   "name": "python3"
  },
  "language_info": {
   "codemirror_mode": {
    "name": "ipython",
    "version": 3
   },
   "file_extension": ".py",
   "mimetype": "text/x-python",
   "name": "python",
   "nbconvert_exporter": "python",
   "pygments_lexer": "ipython3",
   "version": "3.5.2"
  }
 },
 "nbformat": 4,
 "nbformat_minor": 2
}

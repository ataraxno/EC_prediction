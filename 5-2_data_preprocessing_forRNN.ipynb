{
 "cells": [
  {
   "cell_type": "code",
   "execution_count": 1,
   "metadata": {
    "collapsed": true
   },
   "outputs": [],
   "source": [
    "import numpy as np\n",
    "import sklearn.preprocessing as pp"
   ]
  },
  {
   "cell_type": "code",
   "execution_count": 2,
   "metadata": {},
   "outputs": [
    {
     "name": "stdout",
     "output_type": "stream",
     "text": [
      "['trainlabel', 'traindataset']\n",
      "[[   3.83040556    2.57123889    2.88025    ...,    0.           80.           25.2       ]\n",
      " [   3.82931389    2.56607778    2.87302778 ...,    0.           80.\n",
      "    24.71      ]\n",
      " [   3.82688333    2.56219167    2.87966389 ...,    0.           80.            0.        ]\n",
      " ..., \n",
      " [   3.72141111    2.31441389    2.66926944 ...,  181.00977778   30.\n",
      "     3.71875   ]\n",
      " [   3.75376111    2.61795556    3.21715278 ...,  176.01552778   30.\n",
      "    10.885     ]\n",
      " [   3.82142222    2.39112778    3.61993889 ...,  115.48025      30.\n",
      "    16.0125    ]]\n",
      "(16760, 20)\n",
      "[[ 3.99828333  3.95271667  4.09799167 ...,  4.07649444  4.04708611\n",
      "   4.01286111]\n",
      " [ 3.71485278  3.70096389  3.70229167 ...,  3.86463889  3.88561389\n",
      "   3.85588611]\n",
      " [ 4.07649444  4.04708611  4.01286111 ...,  4.15088611  4.22836944\n",
      "   4.52746667]\n",
      " ..., \n",
      " [ 3.40193611  3.39651667  3.36855833 ...,  3.72765556  3.66785278\n",
      "   3.61831111]\n",
      " [ 3.66313889  3.65313611  3.63995556 ...,  3.81437222  3.8086      3.805225  ]\n",
      " [ 3.88957222  3.94103611  3.96370556 ...,  3.62531667  3.61290278  3.59495   ]]\n",
      "(1676, 18)\n"
     ]
    }
   ],
   "source": [
    "# Load them!\n",
    "l = np.load(\"./Data/ECdataset_1hour_fRNN.npz\")\n",
    "\n",
    "# See what's in here\n",
    "print (l.files)\n",
    "\n",
    "# get data\n",
    "raw_data = l['traindataset']\n",
    "raw_label = l['trainlabel']\n",
    "\n",
    "print(raw_data)\n",
    "print(raw_data.shape)\n",
    "\n",
    "print(raw_label)\n",
    "print(raw_label.shape)"
   ]
  },
  {
   "cell_type": "code",
   "execution_count": 3,
   "metadata": {
    "collapsed": true
   },
   "outputs": [],
   "source": [
    "#Processing\n",
    "temp = []\n",
    "mins = []\n",
    "maxs = []\n",
    "labelmins = []\n",
    "labelmaxs = []\n",
    "\n",
    "for i in range(raw_data.shape[1]):\n",
    "    temp = raw_data[:,i]\n",
    "    min_ = min(temp)\n",
    "    max_ = max(temp)\n",
    "    temp = (temp - min_) / (max_ - min_)\n",
    "    raw_data[:,i] = temp\n",
    "    mins.append(min_)\n",
    "    maxs.append(max_)\n",
    "\n",
    "    \n",
    "for i in range(raw_label.shape[1]):\n",
    "    temp = raw_label[:,i]\n",
    "    labelmin_ = min(temp)\n",
    "    labelmax_ = max(temp)\n",
    "    temp = (temp - labelmin_) / (labelmax_ - labelmin_)\n",
    "    raw_label[:,i] = temp\n",
    "    labelmins.append(labelmin_)\n",
    "    labelmaxs.append(labelmax_)"
   ]
  },
  {
   "cell_type": "code",
   "execution_count": 4,
   "metadata": {
    "scrolled": false
   },
   "outputs": [
    {
     "name": "stdout",
     "output_type": "stream",
     "text": [
      "[ 0.12952486  0.61659625  0.10575961  0.94661953  0.96404818  0.96033588\n",
      "  0.43503246  0.66081218  0.7897281   0.51282051  0.14864865  0.9625363\n",
      "  0.96000784  0.48066298  0.94662432  0.81818182  0.73874873  0.\n",
      "  0.78063494  0.49586777]\n",
      "[[ 0.43465713  0.40746402  0.49416071 ...,  0.48133167  0.46378147\n",
      "   0.4433568 ]\n",
      " [ 0.26551246  0.2572239   0.25801628 ...,  0.35490127  0.36741866\n",
      "   0.34967782]\n",
      " [ 0.48133167  0.46378147  0.4433568  ...,  0.52572687  0.57196709\n",
      "   0.75046126]\n",
      " ..., \n",
      " [ 0.07877117  0.07553697  0.0588521  ...,  0.27315285  0.23746397\n",
      "   0.20789867]\n",
      " [ 0.23465083  0.22868141  0.22081556 ...,  0.32490331  0.32145859\n",
      "   0.31944447]\n",
      " [ 0.3697809   0.40049334  0.41402192 ...,  0.21207942  0.2046711\n",
      "   0.19395731]]\n"
     ]
    }
   ],
   "source": [
    "print(raw_data[0])\n",
    "print(raw_label)"
   ]
  },
  {
   "cell_type": "code",
   "execution_count": 5,
   "metadata": {
    "collapsed": true
   },
   "outputs": [],
   "source": [
    "# #remove NaN\n",
    "# raw_data = np.delete(raw_data, [8, 9, 13, 14], axis=1)\n",
    "# raw_data[0]"
   ]
  },
  {
   "cell_type": "code",
   "execution_count": 6,
   "metadata": {},
   "outputs": [
    {
     "name": "stdout",
     "output_type": "stream",
     "text": [
      "(16760, 20)\n",
      "(1676, 18)\n"
     ]
    }
   ],
   "source": [
    "print(raw_data.shape)\n",
    "print(raw_label.shape)"
   ]
  },
  {
   "cell_type": "code",
   "execution_count": 7,
   "metadata": {
    "collapsed": true
   },
   "outputs": [],
   "source": [
    "TRAIN = 1200\n",
    "TIME_STEP = 10"
   ]
  },
  {
   "cell_type": "code",
   "execution_count": 8,
   "metadata": {
    "collapsed": true
   },
   "outputs": [],
   "source": [
    "train_label = raw_label[:TRAIN,:]\n",
    "train_data = raw_data[:TRAIN*TIME_STEP,:]\n",
    "\n",
    "test_label = raw_label[TRAIN:,:]\n",
    "test_data = raw_data[TRAIN*TIME_STEP:,:]"
   ]
  },
  {
   "cell_type": "code",
   "execution_count": 9,
   "metadata": {
    "collapsed": true
   },
   "outputs": [],
   "source": [
    "# # For 1 line\n",
    "# train_label = raw_label[39312:TRAIN,:]\n",
    "# train_data = raw_data[39312*TIME_STEP:TRAIN*TIME_STEP,:]\n",
    "\n",
    "# test_label = raw_label[TRAIN:,:]\n",
    "# test_data = raw_data[TRAIN*TIME_STEP:,:]"
   ]
  },
  {
   "cell_type": "code",
   "execution_count": 10,
   "metadata": {},
   "outputs": [
    {
     "name": "stdout",
     "output_type": "stream",
     "text": [
      "(12000, 20)\n",
      "(1200, 18)\n",
      "(4760, 20)\n",
      "(476, 18)\n"
     ]
    }
   ],
   "source": [
    "print(train_data.shape)\n",
    "print(train_label.shape)\n",
    "\n",
    "print(test_data.shape)\n",
    "print(test_label.shape)"
   ]
  },
  {
   "cell_type": "code",
   "execution_count": 11,
   "metadata": {
    "collapsed": true
   },
   "outputs": [],
   "source": [
    "f = open(\"./Data/ECtrainset_wRWEC.npz\", 'wb')\n",
    "np.savez(f, traindataset = train_data, trainlabel = train_label, testdataset = test_data, testlabel = test_label, \\\n",
    "                 mins = mins, maxs = maxs, labelmins = labelmins, labelmaxs = labelmaxs)\n",
    "f.close()"
   ]
  }
 ],
 "metadata": {
  "kernelspec": {
   "display_name": "Python 3",
   "language": "python",
   "name": "python3"
  },
  "language_info": {
   "codemirror_mode": {
    "name": "ipython",
    "version": 3
   },
   "file_extension": ".py",
   "mimetype": "text/x-python",
   "name": "python",
   "nbconvert_exporter": "python",
   "pygments_lexer": "ipython3",
   "version": "3.5.2"
  }
 },
 "nbformat": 4,
 "nbformat_minor": 2
}

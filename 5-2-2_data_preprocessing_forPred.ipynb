{
 "cells": [
  {
   "cell_type": "code",
   "execution_count": 1,
   "metadata": {
    "collapsed": true
   },
   "outputs": [],
   "source": [
    "import numpy as np\n",
    "import sklearn.preprocessing as pp"
   ]
  },
  {
   "cell_type": "code",
   "execution_count": 2,
   "metadata": {},
   "outputs": [
    {
     "name": "stdout",
     "output_type": "stream",
     "text": [
      "['traindataset', 'trainlabel']\n",
      "[[  4.509825     2.36598889   3.63195556 ...,   0.          30.          12.355     ]\n",
      " [  4.512775     2.36325      3.62388056 ...,   0.          30.           0.        ]\n",
      " [  4.50935278   2.36136389   3.61616944 ...,   0.          30.           0.        ]\n",
      " ..., \n",
      " [  4.73093889   2.34503056   4.77470556 ...,   0.          30.           0.        ]\n",
      " [  4.73232778   2.34459444   4.77499444 ...,   0.          30.           0.        ]\n",
      " [  4.73243611   2.34484722   4.77495    ...,   0.          30.           0.        ]]\n",
      "(1400, 20)\n",
      "[[ 4.26923333  4.26968056  4.4407     ...,  4.61603056  4.57400278\n",
      "   4.56053333]\n",
      " [ 4.26968056  4.4407      4.65670278 ...,  4.57400278  4.56053333\n",
      "   4.53664444]\n",
      " [ 4.4407      4.65670278  4.7515     ...,  4.56053333  4.53664444\n",
      "   4.51494167]\n",
      " ..., \n",
      " [ 4.67689722  4.65017778  4.63691111 ...,  4.58449722  4.55340556\n",
      "   4.52177222]\n",
      " [ 4.65017778  4.63691111  4.60582778 ...,  4.55340556  4.52177222\n",
      "   4.49991944]\n",
      " [ 4.63691111  4.60582778  4.59884167 ...,  4.52177222  4.49991944\n",
      "   4.47073333]]\n",
      "(140, 18)\n"
     ]
    }
   ],
   "source": [
    "# Load them!\n",
    "l = np.load(\"./Data/ECpred_wRWEC.npz\")\n",
    "\n",
    "# See what's in here\n",
    "print (l.files)\n",
    "\n",
    "# get data\n",
    "raw_data = l['traindataset']\n",
    "raw_label = l['trainlabel']\n",
    "\n",
    "print(raw_data)\n",
    "print(raw_data.shape)\n",
    "\n",
    "print(raw_label)\n",
    "print(raw_label.shape)"
   ]
  },
  {
   "cell_type": "code",
   "execution_count": 3,
   "metadata": {
    "collapsed": true
   },
   "outputs": [],
   "source": [
    "# #Processing\n",
    "# temp = []\n",
    "# mins = []\n",
    "# maxs = []\n",
    "# labelmins = []\n",
    "# labelmaxs = []\n",
    "\n",
    "# for i in range(raw_data.shape[1]):\n",
    "#     temp = raw_data[:,i]\n",
    "#     min_ = min(temp)\n",
    "#     max_ = max(temp)\n",
    "#     temp = (temp - min_) / (max_ - min_)\n",
    "#     raw_data[:,i] = temp\n",
    "#     mins.append(min_)\n",
    "#     maxs.append(max_)\n",
    "\n",
    "    \n",
    "# for i in range(raw_label.shape[1]):\n",
    "#     temp = raw_label[:,i]\n",
    "#     labelmin_ = min(temp)\n",
    "#     labelmax_ = max(temp)\n",
    "#     temp = (temp - labelmin_) / (labelmax_ - labelmin_)\n",
    "#     raw_label[:,i] = temp\n",
    "#     labelmins.append(labelmin_)\n",
    "#     labelmaxs.append(labelmax_)"
   ]
  },
  {
   "cell_type": "code",
   "execution_count": 4,
   "metadata": {
    "scrolled": true
   },
   "outputs": [
    {
     "name": "stdout",
     "output_type": "stream",
     "text": [
      "[   4.509825      2.36598889    3.63195556   16.15047222   19.63758333\n",
      "   13.21697222   67.13763889    4.470975      1.768         1.382         0.\n",
      "    6.36231111    4.28258333    5.374425      5.23260278  150.\n",
      "  408.34777778    0.           30.           12.355     ]\n",
      "[[ 4.26923333  4.26968056  4.4407     ...,  4.61603056  4.57400278\n",
      "   4.56053333]\n",
      " [ 4.26968056  4.4407      4.65670278 ...,  4.57400278  4.56053333\n",
      "   4.53664444]\n",
      " [ 4.4407      4.65670278  4.7515     ...,  4.56053333  4.53664444\n",
      "   4.51494167]\n",
      " ..., \n",
      " [ 4.67689722  4.65017778  4.63691111 ...,  4.58449722  4.55340556\n",
      "   4.52177222]\n",
      " [ 4.65017778  4.63691111  4.60582778 ...,  4.55340556  4.52177222\n",
      "   4.49991944]\n",
      " [ 4.63691111  4.60582778  4.59884167 ...,  4.52177222  4.49991944\n",
      "   4.47073333]]\n"
     ]
    }
   ],
   "source": [
    "print(raw_data[0])\n",
    "print(raw_label)"
   ]
  },
  {
   "cell_type": "code",
   "execution_count": 5,
   "metadata": {
    "collapsed": true
   },
   "outputs": [],
   "source": [
    "# #remove NaN\n",
    "# raw_data = np.delete(raw_data, [10, 13, 19, 20, 29], axis=1)\n",
    "# raw_data[0]"
   ]
  },
  {
   "cell_type": "code",
   "execution_count": 6,
   "metadata": {},
   "outputs": [
    {
     "name": "stdout",
     "output_type": "stream",
     "text": [
      "(1400, 20)\n",
      "(140, 18)\n"
     ]
    }
   ],
   "source": [
    "print(raw_data.shape)\n",
    "print(raw_label.shape)"
   ]
  },
  {
   "cell_type": "code",
   "execution_count": 7,
   "metadata": {
    "scrolled": true
   },
   "outputs": [
    {
     "data": {
      "text/plain": [
       "array([ 4.26923333,  4.26968056,  4.4407    ,  4.65670278,  4.7515    ,\n",
       "        4.84539444,  4.78200556,  4.85111667,  4.89650278,  4.82946111,\n",
       "        4.77410833,  4.7369    ,  4.70712222,  4.65998056,  4.63394444,\n",
       "        4.61603056,  4.57400278,  4.56053333])"
      ]
     },
     "execution_count": 7,
     "metadata": {},
     "output_type": "execute_result"
    }
   ],
   "source": [
    "raw_label[0]"
   ]
  },
  {
   "cell_type": "code",
   "execution_count": 8,
   "metadata": {
    "collapsed": true
   },
   "outputs": [],
   "source": [
    "TRAIN = 120\n",
    "TIME_STEP = 10"
   ]
  },
  {
   "cell_type": "code",
   "execution_count": 9,
   "metadata": {
    "collapsed": true
   },
   "outputs": [],
   "source": [
    "pred_label = raw_label[:TRAIN,:]\n",
    "pred_data = raw_data[:TRAIN*TIME_STEP,:]"
   ]
  },
  {
   "cell_type": "code",
   "execution_count": 10,
   "metadata": {
    "collapsed": true
   },
   "outputs": [],
   "source": [
    "# # For 1 line\n",
    "# train_label = raw_label[39312:TRAIN,:]\n",
    "# train_data = raw_data[39312*TIME_STEP:TRAIN*TIME_STEP,:]\n",
    "\n",
    "# test_label = raw_label[TRAIN:,:]\n",
    "# test_data = raw_data[TRAIN*TIME_STEP:,:]"
   ]
  },
  {
   "cell_type": "code",
   "execution_count": 11,
   "metadata": {},
   "outputs": [
    {
     "name": "stdout",
     "output_type": "stream",
     "text": [
      "(1200, 20)\n",
      "(120, 18)\n"
     ]
    }
   ],
   "source": [
    "print(pred_data.shape)\n",
    "print(pred_label.shape)"
   ]
  },
  {
   "cell_type": "code",
   "execution_count": 12,
   "metadata": {
    "collapsed": true
   },
   "outputs": [],
   "source": [
    "f = open(\"./Data/ECpredset_wRWEC.npz\", 'wb')\n",
    "np.savez(f, preddataset = pred_data, predlabel =pred_label)\n",
    "f.close()"
   ]
  }
 ],
 "metadata": {
  "kernelspec": {
   "display_name": "Python 3",
   "language": "python",
   "name": "python3"
  },
  "language_info": {
   "codemirror_mode": {
    "name": "ipython",
    "version": 3
   },
   "file_extension": ".py",
   "mimetype": "text/x-python",
   "name": "python",
   "nbconvert_exporter": "python",
   "pygments_lexer": "ipython3",
   "version": "3.5.2"
  }
 },
 "nbformat": 4,
 "nbformat_minor": 2
}
